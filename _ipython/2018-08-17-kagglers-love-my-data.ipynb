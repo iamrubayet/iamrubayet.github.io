{
 "cells": [
  {
   "cell_type": "markdown",
   "metadata": {},
   "source": [
    "A couple of months ago, I shared my [Olympic History dataset](https://www.kaggle.com/heesoo37/120-years-of-olympic-history-athletes-and-results) with the Kaggle community, and I have been absolutely amazed and honored by it's popularity! It is currently the hottest dataset on Kaggle. \n",
    "\n",
    "![](https://i.imgur.com/EV8mJU4.png) \n",
    "\n",
    "In just 2 months, it has been downloaded 5500 times, accumulated nearly 200 upvotes, and has inspired 42 original kernels. It's really cool to see so many people engaging with my work and to see all the different angles people take with their analyses. I guess part of the appeal of this dataset is that there is something for everyone, with all the different countries, time periods, and sports.\n",
    "\n",
    "I'm going to share my favorite thing anyone has done so far. Kaggler [df_easybi](https://www.kaggle.com/easybi) created [this Shiny app](https://impactr.shinyapps.io/olympics_sports/) that allows you to select a sport from a drop-down menu, see Wikipedia's description of the sport, and view plots of participants over time (grouped by sex) and historical medal counts (grouped by country). So cool! "
   ]
  },
  {
   "cell_type": "code",
   "execution_count": null,
   "metadata": {},
   "outputs": [],
   "source": []
  }
 ],
 "metadata": {
  "kernelspec": {
   "display_name": "Python 3",
   "language": "python",
   "name": "python3"
  },
  "language_info": {
   "codemirror_mode": {
    "name": "ipython",
    "version": 3
   },
   "file_extension": ".py",
   "mimetype": "text/x-python",
   "name": "python",
   "nbconvert_exporter": "python",
   "pygments_lexer": "ipython3",
   "version": "3.6.6"
  }
 },
 "nbformat": 4,
 "nbformat_minor": 2
}
